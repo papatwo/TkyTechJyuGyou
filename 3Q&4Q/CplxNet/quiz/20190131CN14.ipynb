{
  "nbformat": 4,
  "nbformat_minor": 0,
  "metadata": {
    "colab": {
      "name": "20190131CN14.ipynb",
      "version": "0.3.2",
      "provenance": []
    },
    "kernelspec": {
      "name": "python3",
      "display_name": "Python 3"
    }
  },
  "cells": [
    {
      "metadata": {
        "id": "UmWrTV_pCAB-",
        "colab_type": "text"
      },
      "cell_type": "markdown",
      "source": [
        "can be a hint for quiz 14:  configuration model and phi_c"
      ]
    },
    {
      "metadata": {
        "colab_type": "code",
        "outputId": "e20a39be-1a68-4808-ed9f-543ac04c94f0",
        "id": "_jfjWcRHB93i",
        "colab": {
          "base_uri": "https://localhost:8080/",
          "height": 654
        }
      },
      "cell_type": "code",
      "source": [
        "import networkx as nx\n",
        "import numpy as np\n",
        "import matplotlib.pyplot as plt\n",
        "print(\"input the ratio of degree-one nodes (p1) and degree-two nodes (p2). (p1 + p2 + p3 = 10)\")\n",
        "p1 = int(input(\"p1:\"))\n",
        "p2 = int(input(\"p2:\"))\n",
        "p3 = 10 - p1 - p2\n",
        "z = [3] * p3 + [2] * p2 + [1] * p1\n",
        "print(z)\n",
        "k = sum(z)/len(z)\n",
        "k2 = sum(map(lambda x: x * x, z))/len(z)\n",
        "phi_c = k / (k2 - k)\n",
        "print(\"<k>, <k^2>, phi_c :\", '{:.3f}'.format(k), '{:.3f}'.format(k2), '{:.3f}'.format(phi_c))\n",
        "print(\"if phi > phi_c, there is non-trivial solution for u=1-phi+phi*g_1(u) so there can be a giant cluster\")\n",
        "\n",
        "if sum(z) % 2 == 0: # sum of degrees should be even\n",
        "  G = nx.configuration_model(z)\n",
        "  G = nx.Graph(G) # remove parallel edges\n",
        "  G.remove_edges_from(G.selfloop_edges()) # remove self loops\n",
        "  degree_sequence = sorted([d for n, d in nx.degree(G)], reverse=True)\n",
        "  #degree_sequence=list(nx.degree(G).values()) # degree sequence\n",
        "  print(\"cleaned degree sequence %s\" % degree_sequence)\n",
        "  print(nx.info(G))\n",
        "  plt.figure(figsize=(5, 5))\n",
        "  nx.draw_spring(G, node_size=200, node_color=\"red\", with_labels=True, font_weight='bold')"
      ],
      "execution_count": 0,
      "outputs": [
        {
          "output_type": "stream",
          "text": [
            "input the ratio of degree-one nodes (p1) and degree-two nodes (p2). (p1 + p2 + p3 = 10)\n",
            "p1:5\n",
            "p2:4\n",
            "[3, 2, 2, 2, 2, 1, 1, 1, 1, 1]\n",
            "<k>, <k^2>, phi_c : 1.600 3.000 1.143\n",
            "cleaned degree sequence [2, 2, 2, 1, 1, 1, 1, 1, 1, 0]\n",
            "Name: \n",
            "Type: Graph\n",
            "Number of nodes: 10\n",
            "Number of edges: 6\n",
            "Average degree:   1.2000\n"
          ],
          "name": "stdout"
        },
        {
          "output_type": "stream",
          "text": [
            "/usr/local/lib/python3.6/dist-packages/networkx/drawing/nx_pylab.py:611: MatplotlibDeprecationWarning: isinstance(..., numbers.Number)\n",
            "  if cb.is_numlike(alpha):\n"
          ],
          "name": "stderr"
        },
        {
          "output_type": "display_data",
          "data": {
            "image/png": "[encoded data removed]",
            "text/plain": [
              "<Figure size 360x360 with 1 Axes>"
            ]
          },
          "metadata": {
            "tags": []
          }
        }
      ]
    }
  ]
}