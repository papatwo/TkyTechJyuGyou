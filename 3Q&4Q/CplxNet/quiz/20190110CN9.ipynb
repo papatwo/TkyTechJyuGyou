{
  "nbformat": 4,
  "nbformat_minor": 0,
  "metadata": {
    "colab": {
      "name": "20190110CN9.ipynb",
      "version": "0.3.2",
      "provenance": []
    },
    "kernelspec": {
      "name": "python3",
      "display_name": "Python 3"
    }
  },
  "cells": [
    {
      "metadata": {
        "id": "HajvAOI0Ndml",
        "colab_type": "text"
      },
      "cell_type": "markdown",
      "source": [
        "quiz9: Dijkstra's algorithm"
      ]
    },
    {
      "metadata": {
        "colab_type": "code",
        "outputId": "6c78fe94-45a0-4dc0-9e29-e51fa6a8d2ad",
        "id": "wkZOJP7INbM4",
        "colab": {
          "base_uri": "https://localhost:8080/",
          "height": 592
        }
      },
      "cell_type": "code",
      "source": [
        "import networkx as nx\n",
        "import matplotlib.pyplot as plt\n",
        "import numpy as np\n",
        "import sys\n",
        "import functools\n",
        "import operator\n",
        "\n",
        "G = nx.Graph()\n",
        "G.add_nodes_from(range(0, 5))\n",
        "G.add_weighted_edges_from([(0, 1, 7), (0, 2, 9), \n",
        "                           (0, 5, 14), (1, 2, 10), (1, 3, 15), \n",
        "                           (2, 3, 11), (2, 5, 2), (3, 4, 6), (4, 5, 9)])\n",
        "\n",
        "plt.figure(figsize=(5, 5))\n",
        "pos = nx.spring_layout(G)\n",
        "nx.draw_networkx_edges(G, pos)\n",
        "nx.draw_networkx_nodes(G, pos)\n",
        "nx.draw_networkx_edge_labels(G, pos, font_size=16, edge_labels={(u, v): d[\"weight\"] for u, v, d in G.edges(data=True)})\n",
        "nx.draw_networkx_labels(G, pos)\n",
        "plt.axis('off')\n",
        "plt.show()\n",
        "\n",
        "\n",
        "# Store edge weights in a list\n",
        "graph = [ \n",
        "        [0, 7, 9, sys.maxsize, sys.maxsize, 14],\n",
        "        [7, 0, 10, 15, sys.maxsize, sys.maxsize],\n",
        "        [9, 10, 0, 11, sys.maxsize, 2],\n",
        "        [sys.maxsize, 15, 11, 0, 6, sys.maxsize],\n",
        "        [sys.maxsize, sys.maxsize, sys.maxsize, 6, 0, 9],\n",
        "        [14, sys.maxsize, 2, sys.maxsize, 9, 0]]\n",
        "\n",
        "\n",
        "dist_estimate = [sys.maxsize] * nx.number_of_nodes(G) \n",
        "dist_certainty = [0] * nx.number_of_nodes(G)\n",
        "dist_estimate[0] = 0 # First node to itself dist = 0\n",
        "\n",
        "# Print out initialisation\n",
        "print(dist_estimate)\n",
        "print(dist_certainty)\n",
        "\n",
        "\n",
        "\n",
        "print(dist_estimate)\n",
        "print(dist_certainty)\n",
        "\n",
        "current = 0 # Start from 1st node\n",
        "dist_certainty[current] = 1 # First node is visited\n",
        "\n",
        "# Initialise the distance estimation by looking at neighbours of starting node\n",
        "for i in nx.nodes(G):\n",
        "  dist_estimate[i] = graph[current][i]\n",
        "\n",
        "print(dist_estimate)\n",
        "print(dist_certainty)\n",
        "prev=0\n",
        "\n",
        "#---------------------------------------------#\n",
        "# Loop throught every node and its neighbours\n",
        "while functools.reduce(operator.mul, dist_certainty) == 0:\n",
        "  mini = sys.maxsize\n",
        "  for n in nx.nodes(G): \n",
        "    # If the node has not been visited\n",
        "    if dist_estimate[n] < mini and dist_certainty[n] != 1 and graph[prev][n] != sys.maxsize: \n",
        "      mini = dist_estimate[n] # Update the nearest neighbour\n",
        "      current = n # Search from the nearest neighbour next time\n",
        "  dist_certainty[current] = 1 # Mark this nearest neighbour as visited\n",
        "  prev = current\n",
        "  \n",
        "\n",
        "  for n in nx.nodes(G): \n",
        "    # If shorter distance is found, update the distance\n",
        "    if dist_estimate[n] > dist_estimate[current]+graph[current][n]: \n",
        "      dist_estimate[n] = dist_estimate[current]+graph[current][n]\n",
        "  print(dist_estimate)\n",
        "  print(dist_certainty)\n",
        "  \n",
        "\n",
        "      \n"
      ],
      "execution_count": 57,
      "outputs": [
        {
          "output_type": "display_data",
          "data": {
            "image/png": "[encoded data removed]",
            "text/plain": [
              "<matplotlib.figure.Figure at 0x7feac56db198>"
            ]
          },
          "metadata": {
            "tags": []
          }
        },
        {
          "output_type": "stream",
          "text": [
            "[0, 9223372036854775807, 9223372036854775807, 9223372036854775807, 9223372036854775807, 9223372036854775807]\n",
            "[0, 0, 0, 0, 0, 0]\n",
            "[0, 9223372036854775807, 9223372036854775807, 9223372036854775807, 9223372036854775807, 9223372036854775807]\n",
            "[0, 0, 0, 0, 0, 0]\n",
            "[0, 7, 9, 9223372036854775807, 9223372036854775807, 14]\n",
            "[1, 0, 0, 0, 0, 0]\n",
            "[0, 7, 9, 22, 9223372036854775807, 14]\n",
            "[1, 1, 0, 0, 0, 0]\n",
            "[0, 7, 9, 20, 9223372036854775807, 11]\n",
            "[1, 1, 1, 0, 0, 0]\n",
            "[0, 7, 9, 20, 20, 11]\n",
            "[1, 1, 1, 0, 0, 1]\n",
            "[0, 7, 9, 20, 20, 11]\n",
            "[1, 1, 1, 0, 1, 1]\n",
            "[0, 7, 9, 20, 20, 11]\n",
            "[1, 1, 1, 1, 1, 1]\n"
          ],
          "name": "stdout"
        }
      ]
    }
  ]
}